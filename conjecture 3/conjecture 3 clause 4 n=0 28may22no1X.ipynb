{
 "cells": [
  {
   "cell_type": "code",
   "execution_count": 8,
   "metadata": {},
   "outputs": [
    {
     "name": "stdout",
     "output_type": "stream",
     "text": [
      "678\n"
     ]
    }
   ],
   "source": [
    "P = Primes()\n",
    "ZR.<x> = PolynomialRing(ZZ)\n",
    "D.<x> = PolynomialRing(QQ)\n",
    "R.<x> = PolynomialRing(QQ)\n",
    "C.<x> = PolynomialRing(CC)\n",
    "S = PowerSeriesRing(QQ,'x', default_prec=300)\n",
    "#S.<x,y>=PowerSeriesRing(QQ,default_prec=300)\n",
    "# Using \"R = PolynomialRing(QQ,'x')\" produces an error.\n",
    "# Yet using S as defined here is fine (see definition of Fraleigh4 below)\n",
    "# But S = PowerSeriesRing(QQ,'x','y') also produces an error.\n",
    "\n",
    "def den(a):\n",
    "    if a in QQ:\n",
    "        if a in ZZ:return 1\n",
    "        return a.denominator()\n",
    "def listdens(lst):\n",
    "    return list(den(a) for a in lst)\n",
    "\n",
    "def polynomialdenominator2(poly):return lcm(listdens(list(D(poly))))\n",
    "\n",
    "def polynomialnumerator2(poly):\n",
    "    return expand(poly*polynomialdenominator2(poly))\n",
    "\n",
    "\n",
    "def polynomialnumeratorP2(p,poly):\n",
    "    pd=polynomialdenominator2(poly)\n",
    "    od=ord(p,pd)\n",
    "    return expand(poly*p^od)\n",
    "\n",
    "def polynomialnumeratorP4(p,poly):\n",
    "    pd=polynomialdenominator2(poly)\n",
    "    od=ord(p,pd)\n",
    "    return expand(poly*pd/p^od)\n",
    "\n",
    "\n",
    "def polynomialnumeratorP3(prime1,prime2,poly):\n",
    "    pd=polynomialdenominator2(poly)\n",
    "    od1=ord(prime1,pd)\n",
    "    od2=ord(prime2,pd)\n",
    "    return expand(poly*prime1^od1*prime2^od2)\n",
    "\n",
    "\n",
    "\n",
    "\n",
    "def num(a):return a.numerator()\n",
    "def prime(n):\n",
    "    P=Primes()\n",
    "    return P.unrank(n-1)\n",
    "def inclusiveListPrimesTo(n):\n",
    "    if is_prime(n):\n",
    "        return list(primes(n+1))\n",
    "    else:\n",
    "        return list(primes(n))\n",
    "def chunk(k,list):\n",
    "    chnk=[]\n",
    "    for n in [k..len(list)-1]:\n",
    "        chnk=chnk+[list[n]]\n",
    "    return chnk\n",
    "def drop(m,lst): return list(Set(lst).difference({m}))\n",
    "def sort(list):\n",
    "    answr=[]\n",
    "    chnk=list\n",
    "    for n in [0..len(list)-1]:\n",
    "        m = min(chnk)\n",
    "        answr=answr+[m]\n",
    "        chnk=drop(m,chnk)\n",
    "    return answr\n",
    "def ord(p,n):return QQ.valuation(p)(n)\n",
    "def stripQuotationMarks(string):\n",
    "    var('x')\n",
    "    return sage_eval(string,locals={'x':x})\n",
    "print 678"
   ]
  },
  {
   "cell_type": "code",
   "execution_count": 9,
   "metadata": {},
   "outputs": [
    {
     "name": "stdout",
     "output_type": "stream",
     "text": [
      "201\n",
      "[0, 3/8*x^2 + 1/2]\n"
     ]
    }
   ],
   "source": [
    "import pickle\n",
    "rfile =open('/Users/barrybrent/run14jun21no14.txt','r') # xJ polynomials\n",
    "rs=pickle.load(rfile)\n",
    "rfile.close()\n",
    "s=stripQuotationMarks(rs)\n",
    "print len(s)\n",
    "print s[1]"
   ]
  },
  {
   "cell_type": "code",
   "execution_count": 10,
   "metadata": {},
   "outputs": [
    {
     "name": "stdout",
     "output_type": "stream",
     "text": [
      "[(0, 1), (1, 1), (1, 2), (1, 3), (2, 1), (2, 2), (2, 3), (2, 4)]\n"
     ]
    }
   ],
   "source": [
    "import pickle\n",
    "rfile =open('/Users/barrybrent/run14jun21no14.txt','r') # xJ polynomials\n",
    "rs=pickle.load(rfile)\n",
    "rfile.close()\n",
    "s=stripQuotationMarks(rs)\n",
    "bound=120\n",
    "prime=3\n",
    "pairs=[]\n",
    "for k in [0..200]:\n",
    "    n=s[k][0]\n",
    "    poly=D(s[k][1])\n",
    "    polynum=ZR(polynomialnumerator2(D(poly)))\n",
    "    sd=leastSplittingDegree(polynum,prime,bound)\n",
    "    pair=(mod(n,prime),sd)\n",
    "    pairs=pairs+[pair]\n",
    "print sort(union(pairs))"
   ]
  },
  {
   "cell_type": "code",
   "execution_count": 11,
   "metadata": {},
   "outputs": [
    {
     "name": "stdout",
     "output_type": "stream",
     "text": [
      "n: 0\n",
      "[-1, 0, 1, 1, 1, 1, 1, 1, 1, 1, 1, 1, 1, 1, 1, 1, 1, 1, 1, 1, 1, 1, 1, 1, 1, 1, 1, 1, 1, 1, 1, 1, 1, 1, 1, 1, 1, 1, 1, 1, 1, 1, 1, 1, 1, 1, 1, 1, 1, 1, 1, 1, 1, 1, 1, 1, 1, 1, 1, 1, 1, 1, 1, 1, 1, 1, 1, 1, 1, 1, 1, 1, 1, 1, 1, 1, 1, 1, 1, 1, 1, 1, 1, 1, 1, 1, 1, 1, 1, 1, 1, 1, 1, 1, 1, 1, 1, 1, 1, 1, 1, 1, 1, 1, 1, 1, 1, 1, 1, 1, 1, 1, 1, 1, 1, 1, 1, 1, 1, 1, 1, 1, 1, 1, 1, 1, 1, 1, 1, 1, 1, 1, 1, 1, 1, 1, 1, 1, 1, 1, 1, 1, 1, 1, 1, 1, 1, 1, 1, 1, 1, 1, 1, 1, 1, 1, 1, 1, 1, 1, 1, 1, 1, 1, 1, 1, 1, 1, 1, 1, 1, 1, 1, 1, 1, 1, 1, 1, 1, 1, 1, 1, 1, 1, 1, 1, 1, 1, 1, 1, 1, 1, 1, 1, 1, 1, 1, 1, 1, 1, 1, 1, 1, 1, 1, 1, 1, 1, 1, 1, 1, 1, 1, 1, 1, 1, 1, 1, 1, 1, 1, 1, 1, 1, 1, 1, 1, 1, 1, 1, 1, 1, 1, 1, 1, 1, 1, 1, 1, 1, 1, 1, 1, 1, 1, 1, 1, 1, 1, 1, 1, 1, 1, 1, 1, 1, 1, 1, 1, 1, 1, 1, 1, 1, 1, 1, 1, 1, 1, 1, 1, 1, 1, 1, 1, 1, 1, 1, 1, 1, 1, 1, 1, 1, 1, 1, 1, 1, 1, 1, 1, 1, 1, 1, 1, 1, 1, 1, 1, 1, 1, 1, 1, 1, 1, 1, 1, 1, 1, 1, 1, 1, 1, 1, 1, 1, 1, 1, 1, 1, 1, 1, 1, 1, 1, 1, 1, 1, 1, 1, 1, 1, 1, 1, 1, 1, 1, 1, 1, 1, 1, 1, 1, 1, 1, 1, 1, 1, 1, 1, 1, 1, 1, 1, 1, 1, 1, 1, 1, 1, 1, 1, 1, 1, 1, 1, 1, 1, 1, 1, 1, 1, 1, 1, 1, 1, 1, 1, 1, 1, 1, 1, 1, 1, 1, 1, 1, 1, 1, 1, 1, 1, 1, 1, 1, 1, 1, 1, 1, 1, 1, 1, 1, 1, 1, 1, 1, 1, 1, 1, 1, 1, 1, 1, 1, 1, 1, 1, 1, 1, 1, 1, 1, 1, 1, 1, 1, 1, 1, 1, 1, 1, 1, 1, 1, 1, 1, 1, 1, 1, 1, 1, 1, 1, 1, 1, 1, 1, 1, 1, 1, 1, 1, 1, 1, 1, 1, 1, 1, 1, 1, 1, 1, 1, 1, 1, 1, 1, 1, 1, 1, 1, 1, 1, 1, 1, 1, 1, 1, 1, 1, 1, 1, 1, 1, 1, 1, 1, 1, 1, 1, 1, 1, 1, 1, 1, 1, 1, 1, 1, 1, 1, 1, 1, 1, 1, 1, 1, 1, 1, 1, 1, 1, 1, 1, 1, 1, 1, 1, 1, 1, 1, 1, 1, 1, 1, 1, 1, 1, 1, 1, 1, 1, 1, 1, 1, 1, 1, 1, 1, 1, 1, 1, 1, 1, 1, 1, 1, 1, 1, 1, 1, 1, 1, 1, 1, 1, 1, 1, 1, 1, 1, 1, 1, 1, 1, 1, 1, 1, 1, 1, 1, 1, 1, 1, 1, 1, 1, 1, 1, 1, 1, 1, 1, 1, 1, 1, 1, 1, 1, 1, 1, 1, 1, 1, 1, 1, 1, 1, 1, 1, 1, 1, 1, 1, 1, 1, 1, 1, 1, 1, 1, 1]\n"
     ]
    }
   ],
   "source": [
    "import pickle\n",
    "rfile =open('/Users/barrybrent/run14jun21no14.txt','r') # xJ polynomials\n",
    "rs=pickle.load(rfile)\n",
    "rfile.close()\n",
    "s=stripQuotationMarks(rs)\n",
    "def kr(n):return kronecker(n,-3)\n",
    "bound=120\n",
    "no=[]\n",
    "nt_s=[]\n",
    "ntP_s=[]\n",
    "k=1\n",
    "n=s[k][0]\n",
    "print \"n:\",n\n",
    "split=1\n",
    "one=[]\n",
    "for q in [0..10000]:\n",
    "    if is_prime(q):\n",
    "        prime=q\n",
    "        poly=D(s[k][1])\n",
    "        polynum=D(polynomialnumerator2(D(poly)))\n",
    "        sd=leastSplittingDegree(polynum,prime,bound)\n",
    "        if sd==split:one=one+[prime]\n",
    "print map(kr,one)"
   ]
  },
  {
   "cell_type": "code",
   "execution_count": 12,
   "metadata": {},
   "outputs": [
    {
     "name": "stdout",
     "output_type": "stream",
     "text": [
      "n: 0\n",
      "2\n"
     ]
    }
   ],
   "source": [
    "import pickle\n",
    "rfile =open('/Users/barrybrent/run14jun21no14.txt','r') # xJ polynomials\n",
    "rs=pickle.load(rfile)\n",
    "rfile.close()\n",
    "s=stripQuotationMarks(rs)\n",
    "def kr(n):return kronecker(n,-3)\n",
    "bound=120\n",
    "no=[]\n",
    "nt_s=[]\n",
    "ntP_s=[]\n",
    "k=1\n",
    "n=s[k][0]\n",
    "print \"n:\",n\n",
    "split=1\n",
    "for q in [0..10000]:\n",
    "    if is_prime(q):\n",
    "        prime=q\n",
    "        poly=D(s[k][1])\n",
    "        polynum=D(polynomialnumerator2(D(poly)))\n",
    "        sd=leastSplittingDegree(polynum,prime,bound)\n",
    "        if sd==split:\n",
    "            if kr(prime)==-1:print prime"
   ]
  },
  {
   "cell_type": "code",
   "execution_count": 13,
   "metadata": {},
   "outputs": [
    {
     "name": "stdout",
     "output_type": "stream",
     "text": [
      "n: 0\n",
      "3\n"
     ]
    }
   ],
   "source": [
    "import pickle\n",
    "rfile =open('/Users/barrybrent/run14jun21no14.txt','r') # xJ polynomials\n",
    "rs=pickle.load(rfile)\n",
    "rfile.close()\n",
    "s=stripQuotationMarks(rs)\n",
    "def kr(n):return kronecker(n,-3)\n",
    "bound=120\n",
    "no=[]\n",
    "nt_s=[]\n",
    "ntP_s=[]\n",
    "k=1\n",
    "n=s[k][0]\n",
    "print \"n:\",n\n",
    "split=1\n",
    "for q in [0..10000]:\n",
    "    if is_prime(q):\n",
    "        prime=q\n",
    "        poly=D(s[k][1])\n",
    "        polynum=D(polynomialnumerator2(D(poly)))\n",
    "        sd=leastSplittingDegree(polynum,prime,bound)\n",
    "        if sd==split:\n",
    "            if kr(prime)==0:print prime"
   ]
  },
  {
   "cell_type": "code",
   "execution_count": 14,
   "metadata": {},
   "outputs": [
    {
     "name": "stdout",
     "output_type": "stream",
     "text": [
      "[]\n"
     ]
    }
   ],
   "source": [
    "import pickle\n",
    "rfile =open('/Users/barrybrent/run14jun21no14.txt','r') # xJ polynomials\n",
    "rs=pickle.load(rfile)\n",
    "rfile.close()\n",
    "s=stripQuotationMarks(rs)\n",
    "def kr(n):return kronecker(n,-3)\n",
    "bound=120\n",
    "no=[]\n",
    "nt_s=[]\n",
    "ntP_s=[]\n",
    "k=1\n",
    "n=s[k][0]\n",
    "split=1\n",
    "no=[]\n",
    "for q in [0..10000]:\n",
    "    if is_prime(q):\n",
    "        prime=q\n",
    "        if kr(prime)==1:\n",
    "            poly=D(s[k][1])\n",
    "            polynum=D(polynomialnumerator2(D(poly)))\n",
    "            sd=leastSplittingDegree(polynum,prime,bound)\n",
    "            if sd!=split:no=no+[prime]\n",
    "print no"
   ]
  },
  {
   "cell_type": "code",
   "execution_count": 15,
   "metadata": {},
   "outputs": [
    {
     "name": "stdout",
     "output_type": "stream",
     "text": [
      "[]\n"
     ]
    }
   ],
   "source": [
    "import pickle\n",
    "rfile =open('/Users/barrybrent/run14jun21no14.txt','r') # xJ polynomials\n",
    "rs=pickle.load(rfile)\n",
    "rfile.close()\n",
    "s=stripQuotationMarks(rs)\n",
    "def kr(n):return kronecker(n,-3)\n",
    "bound=120\n",
    "no=[]\n",
    "nt_s=[]\n",
    "ntP_s=[]\n",
    "k=1\n",
    "n=s[k][0]\n",
    "split=2\n",
    "for q in [0..10000]:\n",
    "    if is_prime(q):\n",
    "        prime=q\n",
    "        #print prime\n",
    "        poly=D(s[k][1])\n",
    "        polynum=D(polynomialnumerator2(D(poly)))\n",
    "        sd=leastSplittingDegree(polynum,prime,bound)\n",
    "        if sd>2:no=no+[prime]\n",
    "print no"
   ]
  },
  {
   "cell_type": "code",
   "execution_count": 16,
   "metadata": {},
   "outputs": [
    {
     "name": "stdout",
     "output_type": "stream",
     "text": [
      "n: 0\n",
      "[-1, -1, -1, -1, -1, -1, -1, -1, -1, -1, -1, -1, -1, -1, -1, -1, -1, -1, -1, -1, -1, -1, -1, -1, -1, -1, -1, -1, -1, -1, -1, -1, -1, -1, -1, -1, -1, -1, -1, -1, -1, -1, -1, -1, -1, -1, -1, -1, -1, -1, -1, -1, -1, -1, -1, -1, -1, -1, -1, -1, -1, -1, -1, -1, -1, -1, -1, -1, -1, -1, -1, -1, -1, -1, -1, -1, -1, -1, -1, -1, -1, -1, -1, -1, -1, -1, -1, -1, -1, -1, -1, -1, -1, -1, -1, -1, -1, -1, -1, -1, -1, -1, -1, -1, -1, -1, -1, -1, -1, -1, -1, -1, -1, -1, -1, -1, -1, -1, -1, -1, -1, -1, -1, -1, -1, -1, -1, -1, -1, -1, -1, -1, -1, -1, -1, -1, -1, -1, -1, -1, -1, -1, -1, -1, -1, -1, -1, -1, -1, -1, -1, -1, -1, -1, -1, -1, -1, -1, -1, -1, -1, -1, -1, -1, -1, -1, -1, -1, -1, -1, -1, -1, -1, -1, -1, -1, -1, -1, -1, -1, -1, -1, -1, -1, -1, -1, -1, -1, -1, -1, -1, -1, -1, -1, -1, -1, -1, -1, -1, -1, -1, -1, -1, -1, -1, -1, -1, -1, -1, -1, -1, -1, -1, -1, -1, -1, -1, -1, -1, -1, -1, -1, -1, -1, -1, -1, -1, -1, -1, -1, -1, -1, -1, -1, -1, -1, -1, -1, -1, -1, -1, -1, -1, -1, -1, -1, -1, -1, -1, -1, -1, -1, -1, -1, -1, -1, -1, -1, -1, -1, -1, -1, -1, -1, -1, -1, -1, -1, -1, -1, -1, -1, -1, -1, -1, -1, -1, -1, -1, -1, -1, -1, -1, -1, -1, -1, -1, -1, -1, -1, -1, -1, -1, -1, -1, -1, -1, -1, -1, -1, -1, -1, -1, -1, -1, -1, -1, -1, -1, -1, -1, -1, -1, -1, -1, -1, -1, -1, -1, -1, -1, -1, -1, -1, -1, -1, -1, -1, -1, -1, -1, -1, -1, -1, -1, -1, -1, -1, -1, -1, -1, -1, -1, -1, -1, -1, -1, -1, -1, -1, -1, -1, -1, -1, -1, -1, -1, -1, -1, -1, -1, -1, -1, -1, -1, -1, -1, -1, -1, -1, -1, -1, -1, -1, -1, -1, -1, -1, -1, -1, -1, -1, -1, -1, -1, -1, -1, -1, -1, -1, -1, -1, -1, -1, -1, -1, -1, -1, -1, -1, -1, -1, -1, -1, -1, -1, -1, -1, -1, -1, -1, -1, -1, -1, -1, -1, -1, -1, -1, -1, -1, -1, -1, -1, -1, -1, -1, -1, -1, -1, -1, -1, -1, -1, -1, -1, -1, -1, -1, -1, -1, -1, -1, -1, -1, -1, -1, -1, -1, -1, -1, -1, -1, -1, -1, -1, -1, -1, -1, -1, -1, -1, -1, -1, -1, -1, -1, -1, -1, -1, -1, -1, -1, -1, -1, -1, -1, -1, -1, -1, -1, -1, -1, -1, -1, -1, -1, -1, -1, -1, -1, -1, -1, -1, -1, -1, -1, -1, -1, -1, -1, -1, -1, -1, -1, -1, -1, -1, -1, -1, -1, -1, -1, -1, -1, -1, -1, -1, -1, -1, -1, -1, -1, -1, -1, -1, -1, -1, -1, -1, -1, -1, -1, -1, -1, -1, -1, -1, -1, -1, -1, -1, -1, -1, -1, -1, -1, -1, -1, -1, -1, -1, -1, -1, -1, -1, -1, -1, -1, -1, -1, -1, -1, -1, -1, -1, -1, -1, -1, -1, -1, -1, -1, -1, -1, -1, -1, -1, -1, -1, -1, -1, -1, -1, -1, -1, -1, -1, -1, -1, -1, -1, -1, -1, -1, -1, -1, -1, -1, -1, -1, -1, -1, -1, -1, -1, -1, -1, -1, -1, -1, -1, -1, -1, -1, -1]\n"
     ]
    }
   ],
   "source": [
    "import pickle\n",
    "rfile =open('/Users/barrybrent/run14jun21no14.txt','r') # xJ polynomials\n",
    "rs=pickle.load(rfile)\n",
    "rfile.close()\n",
    "s=stripQuotationMarks(rs)\n",
    "def kr(n):return kronecker(n,-3)\n",
    "bound=120\n",
    "no=[]\n",
    "nt_s=[]\n",
    "ntP_s=[]\n",
    "k=1\n",
    "n=s[k][0]\n",
    "print \"n:\",n\n",
    "split=2\n",
    "two=[]\n",
    "for q in [0..10000]:\n",
    "    if is_prime(q):\n",
    "        prime=q\n",
    "        poly=D(s[k][1])\n",
    "        polynum=D(polynomialnumerator2(D(poly)))\n",
    "        sd=leastSplittingDegree(polynum,prime,bound)\n",
    "        if sd==2:two=two+[prime]\n",
    "print map(kr,two)"
   ]
  },
  {
   "cell_type": "code",
   "execution_count": 17,
   "metadata": {},
   "outputs": [
    {
     "name": "stdout",
     "output_type": "stream",
     "text": [
      "n: 0\n",
      "[2]\n"
     ]
    }
   ],
   "source": [
    "import pickle\n",
    "rfile =open('/Users/barrybrent/run14jun21no14.txt','r') # xJ polynomials\n",
    "rs=pickle.load(rfile)\n",
    "rfile.close()\n",
    "s=stripQuotationMarks(rs)\n",
    "def kr(n):return kronecker(n,-3)\n",
    "bound=120\n",
    "no=[]\n",
    "nt_s=[]\n",
    "ntP_s=[]\n",
    "k=1\n",
    "n=s[k][0]\n",
    "print \"n:\",n\n",
    "split=2\n",
    "no=[]\n",
    "for q in [0..10000]:\n",
    "    if is_prime(q):\n",
    "        prime=q\n",
    "        if kr(prime)==-1:\n",
    "            poly=D(s[k][1])\n",
    "            polynum=D(polynomialnumerator2(D(poly)))\n",
    "            sd=leastSplittingDegree(polynum,prime,bound)\n",
    "            if sd!=2:no=no+[prime]\n",
    "print no"
   ]
  },
  {
   "cell_type": "code",
   "execution_count": 18,
   "metadata": {},
   "outputs": [
    {
     "name": "stdout",
     "output_type": "stream",
     "text": [
      "1\n"
     ]
    }
   ],
   "source": [
    "import pickle\n",
    "rfile =open('/Users/barrybrent/run14jun21no14.txt','r') # xJ polynomials\n",
    "rs=pickle.load(rfile)\n",
    "rfile.close()\n",
    "s=stripQuotationMarks(rs)\n",
    "def kr(n):return kronecker(n,-3)\n",
    "bound=120\n",
    "no=[]\n",
    "nt_s=[]\n",
    "ntP_s=[]\n",
    "k=1\n",
    "n=s[k][0]\n",
    "split=2\n",
    "no=[]\n",
    "q=2\n",
    "   \n",
    "prime=q\n",
    "    \n",
    "poly=D(s[k][1])\n",
    "polynum=D(polynomialnumerator2(D(poly)))\n",
    "sd=leastSplittingDegree(polynum,prime,bound)\n",
    "\n",
    "print sd"
   ]
  },
  {
   "cell_type": "code",
   "execution_count": 19,
   "metadata": {},
   "outputs": [
    {
     "name": "stdout",
     "output_type": "stream",
     "text": [
      "n: 0\n",
      "[]\n"
     ]
    }
   ],
   "source": [
    "import pickle\n",
    "rfile =open('/Users/barrybrent/run14jun21no14.txt','r') # xJ polynomials\n",
    "rs=pickle.load(rfile)\n",
    "rfile.close()\n",
    "s=stripQuotationMarks(rs)\n",
    "def kr(n):return kronecker(n,-3)\n",
    "bound=120\n",
    "no=[]\n",
    "nt_s=[]\n",
    "ntP_s=[]\n",
    "k=1\n",
    "n=s[k][0]\n",
    "print \"n:\",n\n",
    "split=1\n",
    "one=[]\n",
    "no=[]\n",
    "for q in [0..10000]:\n",
    "    if is_prime(q):\n",
    "        prime=q\n",
    "        poly=D(s[k][1])\n",
    "        polynum=D(polynomialnumerator2(D(poly)))\n",
    "        sd=leastSplittingDegree(polynum,prime,bound)\n",
    "        if (kr(prime)==1)&(sd!=split):\n",
    "            no=no+[prime]\n",
    "print no"
   ]
  },
  {
   "cell_type": "code",
   "execution_count": 20,
   "metadata": {},
   "outputs": [
    {
     "name": "stdout",
     "output_type": "stream",
     "text": [
      "n: 0\n",
      "[]\n"
     ]
    }
   ],
   "source": [
    "import pickle\n",
    "rfile =open('/Users/barrybrent/run14jun21no14.txt','r') # xJ polynomials\n",
    "rs=pickle.load(rfile)\n",
    "rfile.close()\n",
    "s=stripQuotationMarks(rs)\n",
    "def kr(n):return kronecker(n,-3)\n",
    "bound=120\n",
    "no=[]\n",
    "nt_s=[]\n",
    "ntP_s=[]\n",
    "k=1\n",
    "n=s[k][0]\n",
    "print \"n:\",n\n",
    "split=2\n",
    "one=[]\n",
    "no=[]\n",
    "for q in [4..10000]:\n",
    "    if is_prime(q):\n",
    "        prime=q\n",
    "        poly=D(s[k][1])\n",
    "        polynum=D(polynomialnumerator2(D(poly)))\n",
    "        sd=leastSplittingDegree(polynum,prime,bound)\n",
    "        if (kr(prime)==-1)&(sd!=split):\n",
    "            no=no+[prime]\n",
    "print no"
   ]
  },
  {
   "cell_type": "code",
   "execution_count": 21,
   "metadata": {},
   "outputs": [
    {
     "name": "stdout",
     "output_type": "stream",
     "text": [
      "n: 0\n",
      "[2, 3]\n"
     ]
    }
   ],
   "source": [
    "import pickle\n",
    "rfile =open('/Users/barrybrent/run14jun21no14.txt','r') # xJ polynomials\n",
    "rs=pickle.load(rfile)\n",
    "rfile.close()\n",
    "s=stripQuotationMarks(rs)\n",
    "def kr(n):return kronecker(n,-3)\n",
    "bound=120\n",
    "no=[]\n",
    "nt_s=[]\n",
    "ntP_s=[]\n",
    "k=1\n",
    "n=s[k][0]\n",
    "print \"n:\",n\n",
    "split=1\n",
    "one=[]\n",
    "no=[]\n",
    "for q in [0..10000]:\n",
    "    if is_prime(q):\n",
    "        prime=q\n",
    "        poly=D(s[k][1])\n",
    "        polynum=D(polynomialnumerator2(D(poly)))\n",
    "        sd=leastSplittingDegree(polynum,prime,bound)\n",
    "        if (kr(prime)!=1)&(sd==split):\n",
    "            no=no+[prime]\n",
    "print no"
   ]
  },
  {
   "cell_type": "code",
   "execution_count": 22,
   "metadata": {},
   "outputs": [
    {
     "name": "stdout",
     "output_type": "stream",
     "text": [
      "n: 0\n",
      "[]\n"
     ]
    }
   ],
   "source": [
    "import pickle\n",
    "rfile =open('/Users/barrybrent/run14jun21no14.txt','r') # xJ polynomials\n",
    "rs=pickle.load(rfile)\n",
    "rfile.close()\n",
    "s=stripQuotationMarks(rs)\n",
    "def kr(n):return kronecker(n,-3)\n",
    "bound=120\n",
    "no=[]\n",
    "nt_s=[]\n",
    "ntP_s=[]\n",
    "k=1\n",
    "n=s[k][0]\n",
    "print \"n:\",n\n",
    "split=2\n",
    "one=[]\n",
    "no=[]\n",
    "for q in [0..10000]:\n",
    "    if is_prime(q):\n",
    "        prime=q\n",
    "        poly=D(s[k][1])\n",
    "        polynum=D(polynomialnumerator2(D(poly)))\n",
    "        sd=leastSplittingDegree(polynum,prime,bound)\n",
    "        if (kr(prime)!=-1)&(sd==split):\n",
    "            no=no+[prime]\n",
    "print no"
   ]
  },
  {
   "cell_type": "code",
   "execution_count": 23,
   "metadata": {},
   "outputs": [
    {
     "name": "stdout",
     "output_type": "stream",
     "text": [
      "n: 0\n",
      "3\n"
     ]
    }
   ],
   "source": [
    "import pickle\n",
    "rfile =open('/Users/barrybrent/run14jun21no14.txt','r') # xJ polynomials\n",
    "rs=pickle.load(rfile)\n",
    "rfile.close()\n",
    "s=stripQuotationMarks(rs)\n",
    "def kr(n):return kronecker(n,-3)\n",
    "bound=120\n",
    "no=[]\n",
    "nt_s=[]\n",
    "ntP_s=[]\n",
    "k=1\n",
    "n=s[k][0]\n",
    "print \"n:\",n\n",
    "split=1\n",
    "for q in [0..10000]:\n",
    "    if is_prime(q):\n",
    "        prime=q\n",
    "        poly=D(s[k][1])\n",
    "        polynum=D(polynomialnumerator2(D(poly)))\n",
    "        sd=leastSplittingDegree(polynum,prime,bound)\n",
    "        if sd==split:\n",
    "            if kr(prime)==0:print prime"
   ]
  },
  {
   "cell_type": "code",
   "execution_count": 24,
   "metadata": {},
   "outputs": [
    {
     "name": "stdout",
     "output_type": "stream",
     "text": [
      "n: 0\n",
      "[]\n"
     ]
    }
   ],
   "source": [
    "import pickle\n",
    "rfile =open('/Users/barrybrent/run14jun21no14.txt','r') # xJ polynomials\n",
    "rs=pickle.load(rfile)\n",
    "rfile.close()\n",
    "s=stripQuotationMarks(rs)\n",
    "def kr(n):return kronecker(n,-3)\n",
    "bound=120\n",
    "no=[]\n",
    "nt_s=[]\n",
    "ntP_s=[]\n",
    "k=1\n",
    "n=s[k][0]\n",
    "print \"n:\",n\n",
    "split=2\n",
    "primes=[]\n",
    "for q in [0..10000]:\n",
    "    if is_prime(q):\n",
    "        prime=q\n",
    "        poly=D(s[k][1])\n",
    "        polynum=D(polynomialnumerator2(D(poly)))\n",
    "        sd=leastSplittingDegree(polynum,prime,bound)\n",
    "        if sd==split:\n",
    "            if kr(prime)==0:\n",
    "                primes=primes+[prime]\n",
    "print primes"
   ]
  },
  {
   "cell_type": "code",
   "execution_count": 25,
   "metadata": {},
   "outputs": [
    {
     "name": "stdout",
     "output_type": "stream",
     "text": [
      "n: 0\n",
      "[2, 3, 1, 1, 1, 1, 1, 1, 1, 1, 1, 1, 1, 1, 1, 1, 1, 1, 1, 1, 1, 1, 1, 1, 1, 1, 1, 1, 1, 1, 1, 1, 1, 1, 1, 1, 1, 1, 1, 1, 1, 1, 1, 1, 1, 1, 1, 1, 1, 1, 1, 1, 1, 1, 1, 1, 1, 1, 1, 1, 1, 1, 1, 1, 1, 1, 1, 1, 1, 1, 1, 1, 1, 1, 1, 1, 1, 1, 1, 1, 1, 1, 1, 1, 1, 1, 1, 1, 1, 1, 1, 1, 1, 1, 1, 1, 1, 1, 1, 1, 1, 1, 1, 1, 1, 1, 1, 1, 1, 1, 1, 1, 1, 1, 1, 1, 1, 1, 1, 1, 1, 1, 1, 1, 1, 1, 1, 1, 1, 1, 1, 1, 1, 1, 1, 1, 1, 1, 1, 1, 1, 1, 1, 1, 1, 1, 1, 1, 1, 1, 1, 1, 1, 1, 1, 1, 1, 1, 1, 1, 1, 1, 1, 1, 1, 1, 1, 1, 1, 1, 1, 1, 1, 1, 1, 1, 1, 1, 1, 1, 1, 1, 1, 1, 1, 1, 1, 1, 1, 1, 1, 1, 1, 1, 1, 1, 1, 1, 1, 1, 1, 1, 1, 1, 1, 1, 1, 1, 1, 1, 1, 1, 1, 1, 1, 1, 1, 1, 1, 1, 1, 1, 1, 1, 1, 1, 1, 1, 1, 1, 1, 1, 1, 1, 1, 1, 1, 1, 1, 1, 1, 1, 1, 1, 1, 1, 1, 1, 1, 1, 1, 1, 1, 1, 1, 1, 1, 1, 1, 1, 1, 1, 1, 1, 1, 1, 1, 1, 1, 1, 1, 1, 1, 1, 1, 1, 1, 1, 1, 1, 1, 1, 1, 1, 1, 1, 1, 1, 1, 1, 1, 1, 1, 1, 1, 1, 1, 1, 1, 1, 1, 1, 1, 1, 1, 1, 1, 1, 1, 1, 1, 1, 1, 1, 1, 1, 1, 1, 1, 1, 1, 1, 1, 1, 1, 1, 1, 1, 1, 1, 1, 1, 1, 1, 1, 1, 1, 1, 1, 1, 1, 1, 1, 1, 1, 1, 1, 1, 1, 1, 1, 1, 1, 1, 1, 1, 1, 1, 1, 1, 1, 1, 1, 1, 1, 1, 1, 1, 1, 1, 1, 1, 1, 1, 1, 1, 1, 1, 1, 1, 1, 1, 1, 1, 1, 1, 1, 1, 1, 1, 1, 1, 1, 1, 1, 1, 1, 1, 1, 1, 1, 1, 1, 1, 1, 1, 1, 1, 1, 1, 1, 1, 1, 1, 1, 1, 1, 1, 1, 1, 1, 1, 1, 1, 1, 1, 1, 1, 1, 1, 1, 1, 1, 1, 1, 1, 1, 1, 1, 1, 1, 1, 1, 1, 1, 1, 1, 1, 1, 1, 1, 1, 1, 1, 1, 1, 1, 1, 1, 1, 1, 1, 1, 1, 1, 1, 1, 1, 1, 1, 1, 1, 1, 1, 1, 1, 1, 1, 1, 1, 1, 1, 1, 1, 1, 1, 1, 1, 1, 1, 1, 1, 1, 1, 1, 1, 1, 1, 1, 1, 1, 1, 1, 1, 1, 1, 1, 1, 1, 1, 1, 1, 1, 1, 1, 1, 1, 1, 1, 1, 1, 1, 1, 1, 1, 1, 1, 1, 1, 1, 1, 1, 1, 1, 1, 1, 1, 1, 1, 1, 1, 1, 1, 1, 1, 1, 1, 1, 1, 1, 1, 1, 1, 1, 1, 1, 1, 1, 1, 1, 1, 1, 1, 1, 1, 1, 1, 1, 1, 1, 1, 1, 1, 1, 1, 1, 1, 1, 1, 1, 1, 1, 1, 1, 1, 1, 1, 1, 1, 1, 1, 1, 1, 1, 1, 1, 1, 1, 1, 1, 1, 1, 1, 1, 1, 1, 1, 1, 1, 1, 1, 1, 1]\n"
     ]
    }
   ],
   "source": [
    "import pickle\n",
    "rfile =open('/Users/barrybrent/run14jun21no14.txt','r') # xJ polynomials\n",
    "rs=pickle.load(rfile)\n",
    "rfile.close()\n",
    "s=stripQuotationMarks(rs)\n",
    "def m3(n):return mod(n,6)\n",
    "bound=120\n",
    "no=[]\n",
    "nt_s=[]\n",
    "ntP_s=[]\n",
    "k=1\n",
    "n=s[k][0]\n",
    "print \"n:\",n\n",
    "split=1\n",
    "one=[]\n",
    "for q in [0..10000]:\n",
    "    if is_prime(q):\n",
    "        prime=q\n",
    "        poly=D(s[k][1])\n",
    "        polynum=D(polynomialnumerator2(D(poly)))\n",
    "        sd=leastSplittingDegree(polynum,prime,bound)\n",
    "        if sd==split:one=one+[prime]\n",
    "print map(m3,one)"
   ]
  },
  {
   "cell_type": "code",
   "execution_count": 26,
   "metadata": {},
   "outputs": [
    {
     "name": "stdout",
     "output_type": "stream",
     "text": [
      "n: 0\n",
      "[2, 3, 1, 1, 1, 1, 1, 1, 1, 1, 1, 1, 1, 1, 1, 1, 1, 1, 1, 1, 1, 1, 1, 1, 1, 1, 1, 1, 1, 1, 1, 1, 1, 1, 1, 1, 1, 1, 1, 1, 1, 1, 1, 1, 1, 1, 1, 1, 1, 1, 1, 1, 1, 1, 1, 1, 1, 1, 1, 1, 1, 1, 1, 1, 1, 1, 1, 1, 1, 1, 1, 1, 1, 1, 1, 1, 1, 1, 1, 1, 1, 1, 1, 1, 1, 1, 1, 1, 1, 1, 1, 1, 1, 1, 1, 1, 1, 1, 1, 1, 1, 1, 1, 1, 1, 1, 1, 1, 1, 1, 1, 1, 1, 1, 1, 1, 1, 1, 1, 1, 1, 1, 1, 1, 1, 1, 1, 1, 1, 1, 1, 1, 1, 1, 1, 1, 1, 1, 1, 1, 1, 1, 1, 1, 1, 1, 1, 1, 1, 1, 1, 1, 1, 1, 1, 1, 1, 1, 1, 1, 1, 1, 1, 1, 1, 1, 1, 1, 1, 1, 1, 1, 1, 1, 1, 1, 1, 1, 1, 1, 1, 1, 1, 1, 1, 1, 1, 1, 1, 1, 1, 1, 1, 1, 1, 1, 1, 1, 1, 1, 1, 1, 1, 1, 1, 1, 1, 1, 1, 1, 1, 1, 1, 1, 1, 1, 1, 1, 1, 1, 1, 1, 1, 1, 1, 1, 1, 1, 1, 1, 1, 1, 1, 1, 1, 1, 1, 1, 1, 1, 1, 1, 1, 1, 1, 1, 1, 1, 1, 1, 1, 1, 1, 1, 1, 1, 1, 1, 1, 1, 1, 1, 1, 1, 1, 1, 1, 1, 1, 1, 1, 1, 1, 1, 1, 1, 1, 1, 1, 1, 1, 1, 1, 1, 1, 1, 1, 1, 1, 1, 1, 1, 1, 1, 1, 1, 1, 1, 1, 1, 1, 1, 1, 1, 1, 1, 1, 1, 1, 1, 1, 1, 1, 1, 1, 1, 1, 1, 1, 1, 1, 1, 1, 1, 1, 1, 1, 1, 1, 1, 1, 1, 1, 1, 1, 1, 1, 1, 1, 1, 1, 1, 1, 1, 1, 1, 1, 1, 1, 1, 1, 1, 1, 1, 1, 1, 1, 1, 1, 1, 1, 1, 1, 1, 1, 1, 1, 1, 1, 1, 1, 1, 1, 1, 1, 1, 1, 1, 1, 1, 1, 1, 1, 1, 1, 1, 1, 1, 1, 1, 1, 1, 1, 1, 1, 1, 1, 1, 1, 1, 1, 1, 1, 1, 1, 1, 1, 1, 1, 1, 1, 1, 1, 1, 1, 1, 1, 1, 1, 1, 1, 1, 1, 1, 1, 1, 1, 1, 1, 1, 1, 1, 1, 1, 1, 1, 1, 1, 1, 1, 1, 1, 1, 1, 1, 1, 1, 1, 1, 1, 1, 1, 1, 1, 1, 1, 1, 1, 1, 1, 1, 1, 1, 1, 1, 1, 1, 1, 1, 1, 1, 1, 1, 1, 1, 1, 1, 1, 1, 1, 1, 1, 1, 1, 1, 1, 1, 1, 1, 1, 1, 1, 1, 1, 1, 1, 1, 1, 1, 1, 1, 1, 1, 1, 1, 1, 1, 1, 1, 1, 1, 1, 1, 1, 1, 1, 1, 1, 1, 1, 1, 1, 1, 1, 1, 1, 1, 1, 1, 1, 1, 1, 1, 1, 1, 1, 1, 1, 1, 1, 1, 1, 1, 1, 1, 1, 1, 1, 1, 1, 1, 1, 1, 1, 1, 1, 1, 1, 1, 1, 1, 1, 1, 1, 1, 1, 1, 1, 1, 1, 1, 1, 1, 1, 1, 1, 1, 1, 1, 1, 1, 1, 1, 1, 1, 1, 1, 1, 1, 1, 1, 1, 1, 1, 1, 1, 1, 1, 1, 1, 1, 1, 1, 1, 1, 1, 1, 1, 1, 1, 1, 1, 1]\n"
     ]
    }
   ],
   "source": [
    "import pickle\n",
    "rfile =open('/Users/barrybrent/run14jun21no14.txt','r') # xJ polynomials\n",
    "rs=pickle.load(rfile)\n",
    "rfile.close()\n",
    "s=stripQuotationMarks(rs)\n",
    "def m6(n):return mod(n,6)\n",
    "bound=120\n",
    "no=[]\n",
    "nt_s=[]\n",
    "ntP_s=[]\n",
    "k=1\n",
    "n=s[k][0]\n",
    "print \"n:\",n\n",
    "split=1\n",
    "one=[]\n",
    "for q in [0..10000]:\n",
    "    if is_prime(q):\n",
    "        prime=q\n",
    "        poly=D(s[k][1])\n",
    "        polynum=D(polynomialnumerator2(D(poly)))\n",
    "        sd=leastSplittingDegree(polynum,prime,bound)\n",
    "        if sd==split:one=one+[prime]\n",
    "print map(m6,one)"
   ]
  },
  {
   "cell_type": "code",
   "execution_count": 27,
   "metadata": {},
   "outputs": [
    {
     "name": "stdout",
     "output_type": "stream",
     "text": [
      "n: 0\n",
      "[2, 2, 2, 2, 2, 2, 2, 2, 2, 2, 2, 2, 2, 2, 2, 2, 2, 2, 2, 2, 2, 2, 2, 2, 2, 2, 2, 2, 2, 2, 2, 2, 2, 2, 2, 2, 2, 2, 2, 2, 2, 2, 2, 2, 2, 2, 2, 2, 2, 2, 2, 2, 2, 2, 2, 2, 2, 2, 2, 2, 2, 2, 2, 2, 2, 2, 2, 2, 2, 2, 2, 2, 2, 2, 2, 2, 2, 2, 2, 2, 2, 2, 2, 2, 2, 2, 2, 2, 2, 2, 2, 2, 2, 2, 2, 2, 2, 2, 2, 2, 2, 2, 2, 2, 2, 2, 2, 2, 2, 2, 2, 2, 2, 2, 2, 2, 2, 2, 2, 2, 2, 2, 2, 2, 2, 2, 2, 2, 2, 2, 2, 2, 2, 2, 2, 2, 2, 2, 2, 2, 2, 2, 2, 2, 2, 2, 2, 2, 2, 2, 2, 2, 2, 2, 2, 2, 2, 2, 2, 2, 2, 2, 2, 2, 2, 2, 2, 2, 2, 2, 2, 2, 2, 2, 2, 2, 2, 2, 2, 2, 2, 2, 2, 2, 2, 2, 2, 2, 2, 2, 2, 2, 2, 2, 2, 2, 2, 2, 2, 2, 2, 2, 2, 2, 2, 2, 2, 2, 2, 2, 2, 2, 2, 2, 2, 2, 2, 2, 2, 2, 2, 2, 2, 2, 2, 2, 2, 2, 2, 2, 2, 2, 2, 2, 2, 2, 2, 2, 2, 2, 2, 2, 2, 2, 2, 2, 2, 2, 2, 2, 2, 2, 2, 2, 2, 2, 2, 2, 2, 2, 2, 2, 2, 2, 2, 2, 2, 2, 2, 2, 2, 2, 2, 2, 2, 2, 2, 2, 2, 2, 2, 2, 2, 2, 2, 2, 2, 2, 2, 2, 2, 2, 2, 2, 2, 2, 2, 2, 2, 2, 2, 2, 2, 2, 2, 2, 2, 2, 2, 2, 2, 2, 2, 2, 2, 2, 2, 2, 2, 2, 2, 2, 2, 2, 2, 2, 2, 2, 2, 2, 2, 2, 2, 2, 2, 2, 2, 2, 2, 2, 2, 2, 2, 2, 2, 2, 2, 2, 2, 2, 2, 2, 2, 2, 2, 2, 2, 2, 2, 2, 2, 2, 2, 2, 2, 2, 2, 2, 2, 2, 2, 2, 2, 2, 2, 2, 2, 2, 2, 2, 2, 2, 2, 2, 2, 2, 2, 2, 2, 2, 2, 2, 2, 2, 2, 2, 2, 2, 2, 2, 2, 2, 2, 2, 2, 2, 2, 2, 2, 2, 2, 2, 2, 2, 2, 2, 2, 2, 2, 2, 2, 2, 2, 2, 2, 2, 2, 2, 2, 2, 2, 2, 2, 2, 2, 2, 2, 2, 2, 2, 2, 2, 2, 2, 2, 2, 2, 2, 2, 2, 2, 2, 2, 2, 2, 2, 2, 2, 2, 2, 2, 2, 2, 2, 2, 2, 2, 2, 2, 2, 2, 2, 2, 2, 2, 2, 2, 2, 2, 2, 2, 2, 2, 2, 2, 2, 2, 2, 2, 2, 2, 2, 2, 2, 2, 2, 2, 2, 2, 2, 2, 2, 2, 2, 2, 2, 2, 2, 2, 2, 2, 2, 2, 2, 2, 2, 2, 2, 2, 2, 2, 2, 2, 2, 2, 2, 2, 2, 2, 2, 2, 2, 2, 2, 2, 2, 2, 2, 2, 2, 2, 2, 2, 2, 2, 2, 2, 2, 2, 2, 2, 2, 2, 2, 2, 2, 2, 2, 2, 2, 2, 2, 2, 2, 2, 2, 2, 2, 2, 2, 2, 2, 2, 2, 2, 2, 2, 2, 2, 2, 2, 2, 2, 2, 2, 2, 2, 2, 2, 2, 2, 2, 2, 2, 2, 2, 2, 2, 2, 2, 2, 2, 2, 2, 2, 2, 2, 2, 2, 2, 2, 2, 2, 2, 2, 2]\n"
     ]
    }
   ],
   "source": [
    "import pickle\n",
    "rfile =open('/Users/barrybrent/run14jun21no14.txt','r') # xJ polynomials\n",
    "rs=pickle.load(rfile)\n",
    "rfile.close()\n",
    "s=stripQuotationMarks(rs)\n",
    "def m3(n):return mod(n,3)\n",
    "bound=120\n",
    "no=[]\n",
    "nt_s=[]\n",
    "ntP_s=[]\n",
    "k=1\n",
    "n=s[k][0]\n",
    "print \"n:\",n\n",
    "split=2\n",
    "one=[]\n",
    "for q in [0..10000]:\n",
    "    if is_prime(q):\n",
    "        prime=q\n",
    "        poly=D(s[k][1])\n",
    "        polynum=D(polynomialnumerator2(D(poly)))\n",
    "        sd=leastSplittingDegree(polynum,prime,bound)\n",
    "        if sd==split:one=one+[prime]\n",
    "print map(m3,one)"
   ]
  },
  {
   "cell_type": "code",
   "execution_count": 28,
   "metadata": {},
   "outputs": [
    {
     "name": "stdout",
     "output_type": "stream",
     "text": [
      "n: 0\n",
      "[5, 5, 5, 5, 5, 5, 5, 5, 5, 5, 5, 5, 5, 5, 5, 5, 5, 5, 5, 5, 5, 5, 5, 5, 5, 5, 5, 5, 5, 5, 5, 5, 5, 5, 5, 5, 5, 5, 5, 5, 5, 5, 5, 5, 5, 5, 5, 5, 5, 5, 5, 5, 5, 5, 5, 5, 5, 5, 5, 5, 5, 5, 5, 5, 5, 5, 5, 5, 5, 5, 5, 5, 5, 5, 5, 5, 5, 5, 5, 5, 5, 5, 5, 5, 5, 5, 5, 5, 5, 5, 5, 5, 5, 5, 5, 5, 5, 5, 5, 5, 5, 5, 5, 5, 5, 5, 5, 5, 5, 5, 5, 5, 5, 5, 5, 5, 5, 5, 5, 5, 5, 5, 5, 5, 5, 5, 5, 5, 5, 5, 5, 5, 5, 5, 5, 5, 5, 5, 5, 5, 5, 5, 5, 5, 5, 5, 5, 5, 5, 5, 5, 5, 5, 5, 5, 5, 5, 5, 5, 5, 5, 5, 5, 5, 5, 5, 5, 5, 5, 5, 5, 5, 5, 5, 5, 5, 5, 5, 5, 5, 5, 5, 5, 5, 5, 5, 5, 5, 5, 5, 5, 5, 5, 5, 5, 5, 5, 5, 5, 5, 5, 5, 5, 5, 5, 5, 5, 5, 5, 5, 5, 5, 5, 5, 5, 5, 5, 5, 5, 5, 5, 5, 5, 5, 5, 5, 5, 5, 5, 5, 5, 5, 5, 5, 5, 5, 5, 5, 5, 5, 5, 5, 5, 5, 5, 5, 5, 5, 5, 5, 5, 5, 5, 5, 5, 5, 5, 5, 5, 5, 5, 5, 5, 5, 5, 5, 5, 5, 5, 5, 5, 5, 5, 5, 5, 5, 5, 5, 5, 5, 5, 5, 5, 5, 5, 5, 5, 5, 5, 5, 5, 5, 5, 5, 5, 5, 5, 5, 5, 5, 5, 5, 5, 5, 5, 5, 5, 5, 5, 5, 5, 5, 5, 5, 5, 5, 5, 5, 5, 5, 5, 5, 5, 5, 5, 5, 5, 5, 5, 5, 5, 5, 5, 5, 5, 5, 5, 5, 5, 5, 5, 5, 5, 5, 5, 5, 5, 5, 5, 5, 5, 5, 5, 5, 5, 5, 5, 5, 5, 5, 5, 5, 5, 5, 5, 5, 5, 5, 5, 5, 5, 5, 5, 5, 5, 5, 5, 5, 5, 5, 5, 5, 5, 5, 5, 5, 5, 5, 5, 5, 5, 5, 5, 5, 5, 5, 5, 5, 5, 5, 5, 5, 5, 5, 5, 5, 5, 5, 5, 5, 5, 5, 5, 5, 5, 5, 5, 5, 5, 5, 5, 5, 5, 5, 5, 5, 5, 5, 5, 5, 5, 5, 5, 5, 5, 5, 5, 5, 5, 5, 5, 5, 5, 5, 5, 5, 5, 5, 5, 5, 5, 5, 5, 5, 5, 5, 5, 5, 5, 5, 5, 5, 5, 5, 5, 5, 5, 5, 5, 5, 5, 5, 5, 5, 5, 5, 5, 5, 5, 5, 5, 5, 5, 5, 5, 5, 5, 5, 5, 5, 5, 5, 5, 5, 5, 5, 5, 5, 5, 5, 5, 5, 5, 5, 5, 5, 5, 5, 5, 5, 5, 5, 5, 5, 5, 5, 5, 5, 5, 5, 5, 5, 5, 5, 5, 5, 5, 5, 5, 5, 5, 5, 5, 5, 5, 5, 5, 5, 5, 5, 5, 5, 5, 5, 5, 5, 5, 5, 5, 5, 5, 5, 5, 5, 5, 5, 5, 5, 5, 5, 5, 5, 5, 5, 5, 5, 5, 5, 5, 5, 5, 5, 5, 5, 5, 5, 5, 5, 5, 5, 5, 5, 5, 5, 5, 5, 5, 5, 5, 5, 5, 5, 5, 5, 5, 5, 5, 5, 5, 5, 5, 5, 5, 5, 5, 5, 5, 5, 5, 5, 5, 5, 5, 5, 5, 5]\n"
     ]
    }
   ],
   "source": [
    "import pickle\n",
    "rfile =open('/Users/barrybrent/run14jun21no14.txt','r') # xJ polynomials\n",
    "rs=pickle.load(rfile)\n",
    "rfile.close()\n",
    "s=stripQuotationMarks(rs)\n",
    "def m6(n):return mod(n,6)\n",
    "bound=120\n",
    "no=[]\n",
    "nt_s=[]\n",
    "ntP_s=[]\n",
    "k=1\n",
    "n=s[k][0]\n",
    "print \"n:\",n\n",
    "split=2\n",
    "one=[]\n",
    "for q in [0..10000]:\n",
    "    if is_prime(q):\n",
    "        prime=q\n",
    "        poly=D(s[k][1])\n",
    "        polynum=D(polynomialnumerator2(D(poly)))\n",
    "        sd=leastSplittingDegree(polynum,prime,bound)\n",
    "        if sd==split:one=one+[prime]\n",
    "print map(m6,one)"
   ]
  },
  {
   "cell_type": "code",
   "execution_count": 29,
   "metadata": {},
   "outputs": [
    {
     "name": "stdout",
     "output_type": "stream",
     "text": [
      "n: 0\n",
      "[]\n"
     ]
    }
   ],
   "source": [
    "import pickle\n",
    "rfile =open('/Users/barrybrent/run14jun21no14.txt','r') # xJ polynomials\n",
    "rs=pickle.load(rfile)\n",
    "rfile.close()\n",
    "s=stripQuotationMarks(rs)\n",
    "def m6(n):return mod(n,6)\n",
    "bound=120\n",
    "no=[]\n",
    "nt_s=[]\n",
    "ntP_s=[]\n",
    "k=1\n",
    "n=s[k][0]\n",
    "print \"n:\",n\n",
    "bigger2=[]\n",
    "for q in [0..10000]:\n",
    "    if is_prime(q):\n",
    "        prime=q\n",
    "        poly=D(s[k][1])\n",
    "        polynum=D(polynomialnumerator2(D(poly)))\n",
    "        sd=leastSplittingDegree(polynum,prime,bound)\n",
    "        if sd>2:bigger2=bigger2+[prime]\n",
    "print bigger2"
   ]
  },
  {
   "cell_type": "code",
   "execution_count": null,
   "metadata": {},
   "outputs": [],
   "source": []
  }
 ],
 "metadata": {
  "kernelspec": {
   "display_name": "SageMath 9.1",
   "language": "sage",
   "name": "sagemath"
  },
  "language_info": {
   "codemirror_mode": {
    "name": "ipython",
    "version": 2
   },
   "file_extension": ".py",
   "mimetype": "text/x-python",
   "name": "python",
   "nbconvert_exporter": "python",
   "pygments_lexer": "ipython2",
   "version": "2.7.15"
  }
 },
 "nbformat": 4,
 "nbformat_minor": 2
}
